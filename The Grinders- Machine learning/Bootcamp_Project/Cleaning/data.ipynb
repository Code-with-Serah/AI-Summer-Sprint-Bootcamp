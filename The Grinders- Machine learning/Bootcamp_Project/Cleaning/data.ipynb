{
 "cells": [
  {
   "cell_type": "code",
   "execution_count": 1,
   "id": "256be1dd",
   "metadata": {},
   "outputs": [
    {
     "name": "stdout",
     "output_type": "stream",
     "text": [
      "<class 'pandas.core.frame.DataFrame'>\n",
      "RangeIndex: 45000 entries, 0 to 44999\n",
      "Data columns (total 14 columns):\n",
      " #   Column                          Non-Null Count  Dtype  \n",
      "---  ------                          --------------  -----  \n",
      " 0   person_age                      45000 non-null  float64\n",
      " 1   person_gender                   45000 non-null  object \n",
      " 2   person_education                45000 non-null  object \n",
      " 3   person_income                   45000 non-null  float64\n",
      " 4   person_emp_exp                  45000 non-null  int64  \n",
      " 5   person_home_ownership           45000 non-null  object \n",
      " 6   loan_amnt                       45000 non-null  float64\n",
      " 7   loan_intent                     45000 non-null  object \n",
      " 8   loan_int_rate                   45000 non-null  float64\n",
      " 9   loan_percent_income             45000 non-null  float64\n",
      " 10  cb_person_cred_hist_length      45000 non-null  float64\n",
      " 11  credit_score                    45000 non-null  int64  \n",
      " 12  previous_loan_defaults_on_file  45000 non-null  object \n",
      " 13  loan_status                     45000 non-null  int64  \n",
      "dtypes: float64(6), int64(3), object(5)\n",
      "memory usage: 4.8+ MB\n",
      "   person_age person_gender person_education  person_income  person_emp_exp  \\\n",
      "0        22.0        female           Master        71948.0               0   \n",
      "1        21.0        female      High School        12282.0               0   \n",
      "2        25.0        female      High School        12438.0               3   \n",
      "3        23.0        female         Bachelor        79753.0               0   \n",
      "4        24.0          male           Master        66135.0               1   \n",
      "\n",
      "  person_home_ownership  loan_amnt loan_intent  loan_int_rate  \\\n",
      "0                  RENT    35000.0    PERSONAL          16.02   \n",
      "1                   OWN     1000.0   EDUCATION          11.14   \n",
      "2              MORTGAGE     5500.0     MEDICAL          12.87   \n",
      "3                  RENT    35000.0     MEDICAL          15.23   \n",
      "4                  RENT    35000.0     MEDICAL          14.27   \n",
      "\n",
      "   loan_percent_income  cb_person_cred_hist_length  credit_score  \\\n",
      "0                 0.49                         3.0           561   \n",
      "1                 0.08                         2.0           504   \n",
      "2                 0.44                         3.0           635   \n",
      "3                 0.44                         2.0           675   \n",
      "4                 0.53                         4.0           586   \n",
      "\n",
      "  previous_loan_defaults_on_file  loan_status  \n",
      "0                             No            1  \n",
      "1                            Yes            0  \n",
      "2                             No            1  \n",
      "3                             No            1  \n",
      "4                             No            1  \n",
      "Index(['person_age', 'person_gender', 'person_education', 'person_income',\n",
      "       'person_emp_exp', 'person_home_ownership', 'loan_amnt', 'loan_intent',\n",
      "       'loan_int_rate', 'loan_percent_income', 'cb_person_cred_hist_length',\n",
      "       'credit_score', 'previous_loan_defaults_on_file', 'loan_status'],\n",
      "      dtype='object')\n",
      "person_age                        float64\n",
      "person_gender                      object\n",
      "person_education                   object\n",
      "person_income                     float64\n",
      "person_emp_exp                      int64\n",
      "person_home_ownership              object\n",
      "loan_amnt                         float64\n",
      "loan_intent                        object\n",
      "loan_int_rate                     float64\n",
      "loan_percent_income               float64\n",
      "cb_person_cred_hist_length        float64\n",
      "credit_score                        int64\n",
      "previous_loan_defaults_on_file     object\n",
      "loan_status                         int64\n",
      "dtype: object\n",
      "person_age                        0\n",
      "person_gender                     0\n",
      "person_education                  0\n",
      "person_income                     0\n",
      "person_emp_exp                    0\n",
      "person_home_ownership             0\n",
      "loan_amnt                         0\n",
      "loan_intent                       0\n",
      "loan_int_rate                     0\n",
      "loan_percent_income               0\n",
      "cb_person_cred_hist_length        0\n",
      "credit_score                      0\n",
      "previous_loan_defaults_on_file    0\n",
      "loan_status                       0\n",
      "dtype: int64\n",
      "0\n",
      "Index(['person_age', 'person_gender', 'person_education', 'person_income',\n",
      "       'person_emp_exp', 'person_home_ownership', 'loan_amnt', 'loan_intent',\n",
      "       'loan_int_rate', 'loan_percent_income', 'cb_person_cred_hist_length',\n",
      "       'credit_score', 'previous_loan_defaults_on_file', 'loan_status'],\n",
      "      dtype='object')\n",
      "['female' 'male']\n",
      "['Master' 'High School' 'Bachelor' 'Associate' 'Doctorate']\n",
      "['RENT' 'OWN' 'MORTGAGE' 'OTHER']\n",
      "0\n",
      "['PERSONAL' 'EDUCATION' 'MEDICAL' 'VENTURE' 'HOMEIMPROVEMENT'\n",
      " 'DEBTCONSOLIDATION']\n",
      "['No' 'Yes']\n",
      "[1 0]\n",
      "(44990, 14)\n",
      "(44990, 14)\n"
     ]
    }
   ],
   "source": [
    "import pandas as pd\n",
    "\n",
    "df = pd.read_csv(r\"C:\\Users\\MY-PC\\OneDrive - Sagesse University\\Desktop\\Loan_Approval\\loan_data.csv\")  \n",
    "df.info()\n",
    "print(df.head())\n",
    "print(df.columns )\n",
    "print(df.dtypes) \n",
    "print(df.isnull().sum())\n",
    "print(df.duplicated().sum())\n",
    "\n",
    "df.columns = df.columns.str.strip().str.lower().str.replace(' ', '_')\n",
    "print(df.columns)\n",
    "df['person_gender'].unique()\n",
    "\n",
    "df = df[df['person_age'] >= 0]\n",
    "df = df[df['person_income'] >= 0]\n",
    "print(df['person_gender'].unique())\n",
    "\n",
    "print(df['person_education'].unique())\n",
    "print(df['person_home_ownership'].unique())\n",
    "df = df[df['loan_intent'].notnull()]\n",
    "print(df['loan_intent'].isnull().sum())\n",
    "\n",
    "df = df[(df['person_emp_exp'] >= 0) & (df['person_emp_exp'] <= 60)]\n",
    "\n",
    "df = df[df['loan_amnt'] >= 0]\n",
    "print(df['loan_intent'].unique())\n",
    "print(df['previous_loan_defaults_on_file'].unique())\n",
    "df = df[df['loan_int_rate'] >= 0]\n",
    "df = df[(df['loan_percent_income'] >= 0) & (df['loan_percent_income'] <= 60)]\n",
    "df = df[df['credit_score'] >= 0]\n",
    "\n",
    "#print(df[~df['loan_status'].isin([0, 1])])\n",
    "print(df['loan_status'].unique())\n",
    "print(df.shape)\n",
    "\n",
    "df.to_csv(\"cleaned1_loan_data.csv\", index=False)\n",
    "df = pd.read_csv(\"cleaned1_loan_data.csv\")\n",
    "print(df.shape)"
   ]
  },
  {
   "cell_type": "code",
   "execution_count": 2,
   "id": "97f40526",
   "metadata": {},
   "outputs": [
    {
     "data": {
      "text/plain": [
       "loan_status\n",
       "0    0.777728\n",
       "1    0.222272\n",
       "Name: proportion, dtype: float64"
      ]
     },
     "execution_count": 2,
     "metadata": {},
     "output_type": "execute_result"
    }
   ],
   "source": [
    "df['loan_status'].value_counts(normalize=True)\n"
   ]
  },
  {
   "cell_type": "code",
   "execution_count": 3,
   "id": "4456faee",
   "metadata": {},
   "outputs": [
    {
     "data": {
      "text/plain": [
       "person_gender\n",
       "female    0.222503\n",
       "male      0.222084\n",
       "Name: loan_status, dtype: float64"
      ]
     },
     "execution_count": 3,
     "metadata": {},
     "output_type": "execute_result"
    }
   ],
   "source": [
    "df.groupby('person_gender')['loan_status'].mean()\n"
   ]
  },
  {
   "cell_type": "code",
   "execution_count": 4,
   "id": "23be7cf3",
   "metadata": {},
   "outputs": [
    {
     "data": {
      "text/plain": [
       "loan_status\n",
       "0    632.77585\n",
       "1    631.88720\n",
       "Name: credit_score, dtype: float64"
      ]
     },
     "execution_count": 4,
     "metadata": {},
     "output_type": "execute_result"
    }
   ],
   "source": [
    "df.groupby('loan_status')['credit_score'].mean()\n"
   ]
  },
  {
   "cell_type": "code",
   "execution_count": 5,
   "id": "388d4de9",
   "metadata": {},
   "outputs": [
    {
     "data": {
      "text/plain": [
       "loan_status\n",
       "0    85631.2511\n",
       "1    59886.0969\n",
       "Name: person_income, dtype: float64"
      ]
     },
     "execution_count": 5,
     "metadata": {},
     "output_type": "execute_result"
    }
   ],
   "source": [
    "df.groupby('loan_status')['person_income'].mean()\n"
   ]
  },
  {
   "cell_type": "code",
   "execution_count": 6,
   "id": "289d873b",
   "metadata": {},
   "outputs": [
    {
     "name": "stdout",
     "output_type": "stream",
     "text": [
      "count    4.499000e+04\n",
      "mean     7.990883e+04\n",
      "std      6.332359e+04\n",
      "min      8.000000e+03\n",
      "25%      4.719575e+04\n",
      "50%      6.704550e+04\n",
      "75%      9.577700e+04\n",
      "max      2.448661e+06\n",
      "Name: person_income, dtype: float64\n"
     ]
    }
   ],
   "source": [
    "print(df['person_income'].describe())\n"
   ]
  },
  {
   "cell_type": "code",
   "execution_count": 7,
   "id": "0dfa3a27",
   "metadata": {},
   "outputs": [
    {
     "name": "stdout",
     "output_type": "stream",
     "text": [
      "loan_status\n",
      "Approved    85631.2511\n",
      "Rejected    59886.0969\n",
      "Name: person_income, dtype: float64\n"
     ]
    }
   ],
   "source": [
    "df['loan_status'] = df['loan_status'].apply(lambda x: 1 if x == 0 else 0)\n",
    "df['loan_status'] = df['loan_status'].replace({0: 'Rejected', 1: 'Approved'})\n",
    "print(df.groupby('loan_status')['person_income'].mean())"
   ]
  },
  {
   "cell_type": "code",
   "execution_count": 8,
   "id": "986ee1d4",
   "metadata": {},
   "outputs": [
    {
     "data": {
      "text/plain": [
       "(44990, 14)"
      ]
     },
     "execution_count": 8,
     "metadata": {},
     "output_type": "execute_result"
    }
   ],
   "source": [
    "df.shape"
   ]
  },
  {
   "cell_type": "code",
   "execution_count": 9,
   "id": "f7c98933",
   "metadata": {},
   "outputs": [
    {
     "name": "stdout",
     "output_type": "stream",
     "text": [
      "['RENT' 'OWN' 'MORTGAGE' 'OTHER']\n"
     ]
    }
   ],
   "source": [
    "print(df['person_home_ownership'].unique())"
   ]
  }
 ],
 "metadata": {
  "kernelspec": {
   "display_name": "Python 3",
   "language": "python",
   "name": "python3"
  },
  "language_info": {
   "codemirror_mode": {
    "name": "ipython",
    "version": 3
   },
   "file_extension": ".py",
   "mimetype": "text/x-python",
   "name": "python",
   "nbconvert_exporter": "python",
   "pygments_lexer": "ipython3",
   "version": "3.13.2"
  }
 },
 "nbformat": 4,
 "nbformat_minor": 5
}
